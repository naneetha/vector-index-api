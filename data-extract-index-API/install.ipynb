{
 "cells": [
  {
   "cell_type": "code",
   "execution_count": 2,
   "metadata": {},
   "outputs": [
    {
     "name": "stdout",
     "output_type": "stream",
     "text": [
      "Requirement already satisfied: azure-functions in ./.venv/lib/python3.11/site-packages (from -r requirements.txt (line 5)) (1.18.0)\n",
      "Requirement already satisfied: langchain in ./.venv/lib/python3.11/site-packages (from -r requirements.txt (line 6)) (0.1.12)\n",
      "Requirement already satisfied: azure-search-documents in ./.venv/lib/python3.11/site-packages (from -r requirements.txt (line 7)) (11.4.0b8)\n",
      "Requirement already satisfied: openai in ./.venv/lib/python3.11/site-packages (from -r requirements.txt (line 8)) (1.14.0)\n",
      "Requirement already satisfied: python-dotenv in ./.venv/lib/python3.11/site-packages (from -r requirements.txt (line 9)) (1.0.1)\n",
      "Requirement already satisfied: langchain-community in ./.venv/lib/python3.11/site-packages (from -r requirements.txt (line 10)) (0.0.28)\n",
      "Requirement already satisfied: langchain-openai in ./.venv/lib/python3.11/site-packages (from -r requirements.txt (line 11)) (0.0.8)\n",
      "Requirement already satisfied: langchainhub in ./.venv/lib/python3.11/site-packages (from -r requirements.txt (line 12)) (0.1.15)\n",
      "Requirement already satisfied: tiktoken in ./.venv/lib/python3.11/site-packages (from -r requirements.txt (line 14)) (0.6.0)\n",
      "Requirement already satisfied: azure-ai-documentintelligence in ./.venv/lib/python3.11/site-packages (from -r requirements.txt (line 15)) (1.0.0b2)\n",
      "Collecting azure-ai-formrecognizer (from -r requirements.txt (line 16))\n",
      "  Obtaining dependency information for azure-ai-formrecognizer from https://files.pythonhosted.org/packages/60/96/9496960475a578b5bd688eee6be8ec96d9a2673925fc447be9214d73a547/azure_ai_formrecognizer-3.3.2-py3-none-any.whl.metadata\n",
      "  Downloading azure_ai_formrecognizer-3.3.2-py3-none-any.whl.metadata (63 kB)\n",
      "\u001b[2K     \u001b[90m━━━━━━━━━━━━━━━━━━━━━━━━━━━━━━━━━━━━━━━\u001b[0m \u001b[32m63.9/63.9 kB\u001b[0m \u001b[31m429.4 kB/s\u001b[0m eta \u001b[36m0:00:00\u001b[0ma \u001b[36m0:00:01\u001b[0m\n",
      "\u001b[?25hRequirement already satisfied: PyYAML>=5.3 in ./.venv/lib/python3.11/site-packages (from langchain->-r requirements.txt (line 6)) (6.0.1)\n",
      "Requirement already satisfied: SQLAlchemy<3,>=1.4 in ./.venv/lib/python3.11/site-packages (from langchain->-r requirements.txt (line 6)) (2.0.28)\n",
      "Requirement already satisfied: aiohttp<4.0.0,>=3.8.3 in ./.venv/lib/python3.11/site-packages (from langchain->-r requirements.txt (line 6)) (3.9.3)\n",
      "Requirement already satisfied: dataclasses-json<0.7,>=0.5.7 in ./.venv/lib/python3.11/site-packages (from langchain->-r requirements.txt (line 6)) (0.6.4)\n",
      "Requirement already satisfied: jsonpatch<2.0,>=1.33 in ./.venv/lib/python3.11/site-packages (from langchain->-r requirements.txt (line 6)) (1.33)\n",
      "Requirement already satisfied: langchain-core<0.2.0,>=0.1.31 in ./.venv/lib/python3.11/site-packages (from langchain->-r requirements.txt (line 6)) (0.1.31)\n",
      "Requirement already satisfied: langchain-text-splitters<0.1,>=0.0.1 in ./.venv/lib/python3.11/site-packages (from langchain->-r requirements.txt (line 6)) (0.0.1)\n",
      "Requirement already satisfied: langsmith<0.2.0,>=0.1.17 in ./.venv/lib/python3.11/site-packages (from langchain->-r requirements.txt (line 6)) (0.1.25)\n",
      "Requirement already satisfied: numpy<2,>=1 in ./.venv/lib/python3.11/site-packages (from langchain->-r requirements.txt (line 6)) (1.26.4)\n",
      "Requirement already satisfied: pydantic<3,>=1 in ./.venv/lib/python3.11/site-packages (from langchain->-r requirements.txt (line 6)) (2.6.4)\n",
      "Requirement already satisfied: requests<3,>=2 in ./.venv/lib/python3.11/site-packages (from langchain->-r requirements.txt (line 6)) (2.31.0)\n",
      "Requirement already satisfied: tenacity<9.0.0,>=8.1.0 in ./.venv/lib/python3.11/site-packages (from langchain->-r requirements.txt (line 6)) (8.2.3)\n",
      "Requirement already satisfied: azure-core<2.0.0,>=1.24.0 in ./.venv/lib/python3.11/site-packages (from azure-search-documents->-r requirements.txt (line 7)) (1.30.1)\n",
      "Requirement already satisfied: azure-common~=1.1 in ./.venv/lib/python3.11/site-packages (from azure-search-documents->-r requirements.txt (line 7)) (1.1.28)\n",
      "Requirement already satisfied: isodate>=0.6.0 in ./.venv/lib/python3.11/site-packages (from azure-search-documents->-r requirements.txt (line 7)) (0.6.1)\n",
      "Requirement already satisfied: anyio<5,>=3.5.0 in ./.venv/lib/python3.11/site-packages (from openai->-r requirements.txt (line 8)) (4.3.0)\n",
      "Requirement already satisfied: distro<2,>=1.7.0 in ./.venv/lib/python3.11/site-packages (from openai->-r requirements.txt (line 8)) (1.9.0)\n",
      "Requirement already satisfied: httpx<1,>=0.23.0 in ./.venv/lib/python3.11/site-packages (from openai->-r requirements.txt (line 8)) (0.27.0)\n",
      "Requirement already satisfied: sniffio in ./.venv/lib/python3.11/site-packages (from openai->-r requirements.txt (line 8)) (1.3.1)\n",
      "Requirement already satisfied: tqdm>4 in ./.venv/lib/python3.11/site-packages (from openai->-r requirements.txt (line 8)) (4.66.2)\n",
      "Requirement already satisfied: typing-extensions<5,>=4.7 in ./.venv/lib/python3.11/site-packages (from openai->-r requirements.txt (line 8)) (4.10.0)\n",
      "Requirement already satisfied: types-requests<3.0.0.0,>=2.31.0.2 in ./.venv/lib/python3.11/site-packages (from langchainhub->-r requirements.txt (line 12)) (2.31.0.20240311)\n",
      "Requirement already satisfied: regex>=2022.1.18 in ./.venv/lib/python3.11/site-packages (from tiktoken->-r requirements.txt (line 14)) (2023.12.25)\n",
      "Collecting msrest>=0.6.21 (from azure-ai-formrecognizer->-r requirements.txt (line 16))\n",
      "  Obtaining dependency information for msrest>=0.6.21 from https://files.pythonhosted.org/packages/15/cf/f2966a2638144491f8696c27320d5219f48a072715075d168b31d3237720/msrest-0.7.1-py3-none-any.whl.metadata\n",
      "  Downloading msrest-0.7.1-py3-none-any.whl.metadata (21 kB)\n",
      "Requirement already satisfied: aiosignal>=1.1.2 in ./.venv/lib/python3.11/site-packages (from aiohttp<4.0.0,>=3.8.3->langchain->-r requirements.txt (line 6)) (1.3.1)\n",
      "Requirement already satisfied: attrs>=17.3.0 in ./.venv/lib/python3.11/site-packages (from aiohttp<4.0.0,>=3.8.3->langchain->-r requirements.txt (line 6)) (23.2.0)\n",
      "Requirement already satisfied: frozenlist>=1.1.1 in ./.venv/lib/python3.11/site-packages (from aiohttp<4.0.0,>=3.8.3->langchain->-r requirements.txt (line 6)) (1.4.1)\n",
      "Requirement already satisfied: multidict<7.0,>=4.5 in ./.venv/lib/python3.11/site-packages (from aiohttp<4.0.0,>=3.8.3->langchain->-r requirements.txt (line 6)) (6.0.5)\n",
      "Requirement already satisfied: yarl<2.0,>=1.0 in ./.venv/lib/python3.11/site-packages (from aiohttp<4.0.0,>=3.8.3->langchain->-r requirements.txt (line 6)) (1.9.4)\n",
      "Requirement already satisfied: idna>=2.8 in ./.venv/lib/python3.11/site-packages (from anyio<5,>=3.5.0->openai->-r requirements.txt (line 8)) (3.6)\n",
      "Requirement already satisfied: six>=1.11.0 in ./.venv/lib/python3.11/site-packages (from azure-core<2.0.0,>=1.24.0->azure-search-documents->-r requirements.txt (line 7)) (1.16.0)\n",
      "Requirement already satisfied: marshmallow<4.0.0,>=3.18.0 in ./.venv/lib/python3.11/site-packages (from dataclasses-json<0.7,>=0.5.7->langchain->-r requirements.txt (line 6)) (3.21.1)\n",
      "Requirement already satisfied: typing-inspect<1,>=0.4.0 in ./.venv/lib/python3.11/site-packages (from dataclasses-json<0.7,>=0.5.7->langchain->-r requirements.txt (line 6)) (0.9.0)\n",
      "Requirement already satisfied: certifi in ./.venv/lib/python3.11/site-packages (from httpx<1,>=0.23.0->openai->-r requirements.txt (line 8)) (2024.2.2)\n",
      "Requirement already satisfied: httpcore==1.* in ./.venv/lib/python3.11/site-packages (from httpx<1,>=0.23.0->openai->-r requirements.txt (line 8)) (1.0.4)\n",
      "Requirement already satisfied: h11<0.15,>=0.13 in ./.venv/lib/python3.11/site-packages (from httpcore==1.*->httpx<1,>=0.23.0->openai->-r requirements.txt (line 8)) (0.14.0)\n",
      "Requirement already satisfied: jsonpointer>=1.9 in ./.venv/lib/python3.11/site-packages (from jsonpatch<2.0,>=1.33->langchain->-r requirements.txt (line 6)) (2.4)\n",
      "Requirement already satisfied: packaging<24.0,>=23.2 in ./.venv/lib/python3.11/site-packages (from langchain-core<0.2.0,>=0.1.31->langchain->-r requirements.txt (line 6)) (23.2)\n",
      "Requirement already satisfied: orjson<4.0.0,>=3.9.14 in ./.venv/lib/python3.11/site-packages (from langsmith<0.2.0,>=0.1.17->langchain->-r requirements.txt (line 6)) (3.9.15)\n",
      "Collecting requests-oauthlib>=0.5.0 (from msrest>=0.6.21->azure-ai-formrecognizer->-r requirements.txt (line 16))\n",
      "  Obtaining dependency information for requests-oauthlib>=0.5.0 from https://files.pythonhosted.org/packages/db/3a/457f30ab4e80b0e978686ccd43f17309e9fdc242d8619491a9156a19fda5/requests_oauthlib-1.4.0-py2.py3-none-any.whl.metadata\n",
      "  Downloading requests_oauthlib-1.4.0-py2.py3-none-any.whl.metadata (11 kB)\n",
      "Requirement already satisfied: annotated-types>=0.4.0 in ./.venv/lib/python3.11/site-packages (from pydantic<3,>=1->langchain->-r requirements.txt (line 6)) (0.6.0)\n",
      "Requirement already satisfied: pydantic-core==2.16.3 in ./.venv/lib/python3.11/site-packages (from pydantic<3,>=1->langchain->-r requirements.txt (line 6)) (2.16.3)\n",
      "Requirement already satisfied: charset-normalizer<4,>=2 in ./.venv/lib/python3.11/site-packages (from requests<3,>=2->langchain->-r requirements.txt (line 6)) (3.3.2)\n",
      "Requirement already satisfied: urllib3<3,>=1.21.1 in ./.venv/lib/python3.11/site-packages (from requests<3,>=2->langchain->-r requirements.txt (line 6)) (2.2.1)\n",
      "Requirement already satisfied: greenlet!=0.4.17 in ./.venv/lib/python3.11/site-packages (from SQLAlchemy<3,>=1.4->langchain->-r requirements.txt (line 6)) (3.0.3)\n",
      "Collecting oauthlib>=3.0.0 (from requests-oauthlib>=0.5.0->msrest>=0.6.21->azure-ai-formrecognizer->-r requirements.txt (line 16))\n",
      "  Obtaining dependency information for oauthlib>=3.0.0 from https://files.pythonhosted.org/packages/7e/80/cab10959dc1faead58dc8384a781dfbf93cb4d33d50988f7a69f1b7c9bbe/oauthlib-3.2.2-py3-none-any.whl.metadata\n",
      "  Downloading oauthlib-3.2.2-py3-none-any.whl.metadata (7.5 kB)\n",
      "Requirement already satisfied: mypy-extensions>=0.3.0 in ./.venv/lib/python3.11/site-packages (from typing-inspect<1,>=0.4.0->dataclasses-json<0.7,>=0.5.7->langchain->-r requirements.txt (line 6)) (1.0.0)\n",
      "Downloading azure_ai_formrecognizer-3.3.2-py3-none-any.whl (300 kB)\n",
      "\u001b[2K   \u001b[90m━━━━━━━━━━━━━━━━━━━━━━━━━━━━━━━━━━━━━━━\u001b[0m \u001b[32m300.1/300.1 kB\u001b[0m \u001b[31m958.9 kB/s\u001b[0m eta \u001b[36m0:00:00\u001b[0m0:01\u001b[0m00:01\u001b[0mm\n",
      "\u001b[?25hDownloading msrest-0.7.1-py3-none-any.whl (85 kB)\n",
      "\u001b[2K   \u001b[90m━━━━━━━━━━━━━━━━━━━━━━━━━━━━━━━━━━━━━━━━\u001b[0m \u001b[32m85.4/85.4 kB\u001b[0m \u001b[31m366.8 kB/s\u001b[0m eta \u001b[36m0:00:00\u001b[0ma \u001b[36m0:00:01\u001b[0m\n",
      "\u001b[?25hDownloading requests_oauthlib-1.4.0-py2.py3-none-any.whl (24 kB)\n",
      "Using cached oauthlib-3.2.2-py3-none-any.whl (151 kB)\n",
      "Installing collected packages: oauthlib, requests-oauthlib, msrest, azure-ai-formrecognizer\n",
      "Successfully installed azure-ai-formrecognizer-3.3.2 msrest-0.7.1 oauthlib-3.2.2 requests-oauthlib-1.4.0\n",
      "\n",
      "\u001b[1m[\u001b[0m\u001b[34;49mnotice\u001b[0m\u001b[1;39;49m]\u001b[0m\u001b[39;49m A new release of pip is available: \u001b[0m\u001b[31;49m23.2.1\u001b[0m\u001b[39;49m -> \u001b[0m\u001b[32;49m24.0\u001b[0m\n",
      "\u001b[1m[\u001b[0m\u001b[34;49mnotice\u001b[0m\u001b[1;39;49m]\u001b[0m\u001b[39;49m To update, run: \u001b[0m\u001b[32;49mpip install --upgrade pip\u001b[0m\n",
      "Note: you may need to restart the kernel to use updated packages.\n"
     ]
    }
   ],
   "source": [
    "%pip install -r requirements.txt"
   ]
  },
  {
   "cell_type": "code",
   "execution_count": null,
   "metadata": {},
   "outputs": [],
   "source": []
  }
 ],
 "metadata": {
  "kernelspec": {
   "display_name": ".venv",
   "language": "python",
   "name": "python3"
  },
  "language_info": {
   "codemirror_mode": {
    "name": "ipython",
    "version": 3
   },
   "file_extension": ".py",
   "mimetype": "text/x-python",
   "name": "python",
   "nbconvert_exporter": "python",
   "pygments_lexer": "ipython3",
   "version": "3.11.6"
  }
 },
 "nbformat": 4,
 "nbformat_minor": 2
}
